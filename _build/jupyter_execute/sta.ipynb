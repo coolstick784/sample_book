{
 "cells": [
  {
   "cell_type": "code",
   "execution_count": 1,
   "id": "3551bb2e",
   "metadata": {},
   "outputs": [
    {
     "name": "stdout",
     "output_type": "stream",
     "text": [
      "\u001b[34m_build\u001b[m\u001b[m/                logo.png               references.bib\r\n",
      "_config.yml            markdown-notebooks.md  requirements.txt\r\n",
      "_toc.yml               markdown.md            sta.ipynb\r\n",
      "intro.md               notebooks.ipynb\r\n"
     ]
    }
   ],
   "source": [
    "ls"
   ]
  },
  {
   "cell_type": "code",
   "execution_count": 2,
   "id": "e76a71e0",
   "metadata": {},
   "outputs": [],
   "source": [
    "import random"
   ]
  },
  {
   "cell_type": "code",
   "execution_count": 3,
   "id": "eae7676f",
   "metadata": {},
   "outputs": [],
   "source": [
    "c1 = [\"b\", \"b\"]\n",
    "c2 = [\"b\", \"b\"]\n",
    "c3 = [\"b\", \"b\"]\n",
    "c4 = [\"b\", \"b\"]\n",
    "c5 = [\"b\", \"b\"]\n",
    "c6 = [\"r\",\"b\"]\n",
    "c7 = [\"b\",\"r\"]\n",
    "c8 = [\"r\",\"b\"]"
   ]
  },
  {
   "cell_type": "code",
   "execution_count": 4,
   "id": "967b06fb",
   "metadata": {},
   "outputs": [],
   "source": [
    "choices = [0,1]"
   ]
  },
  {
   "cell_type": "code",
   "execution_count": 5,
   "id": "b3d5a0f0",
   "metadata": {},
   "outputs": [],
   "source": [
    "cards = [c1, c2, c3, c4, c5, c6, c7, c8]\n",
    "total = 0\n",
    "blue = 0\n",
    "for i in range(1000000):\n",
    "    cursides = []\n",
    "    \n",
    "    for c in cards:\n",
    "        cur_choice = random.choice(choices)\n",
    "        \n",
    "        if cur_choice == 0:\n",
    "            other_choice = 1\n",
    "        else:\n",
    "            other_choice = 0\n",
    "        \n",
    "        if c[cur_choice] == \"b\":\n",
    "            total += 1\n",
    "            if c[other_choice] == \"r\":\n",
    "                blue += 1\n",
    "                \n",
    "        \n",
    "        "
   ]
  },
  {
   "cell_type": "code",
   "execution_count": 6,
   "id": "730217bb",
   "metadata": {},
   "outputs": [
    {
     "data": {
      "text/plain": [
       "0.23084673775181117"
      ]
     },
     "execution_count": 6,
     "metadata": {},
     "output_type": "execute_result"
    }
   ],
   "source": [
    "blue/total"
   ]
  },
  {
   "cell_type": "code",
   "execution_count": null,
   "id": "cacde37c",
   "metadata": {},
   "outputs": [],
   "source": []
  }
 ],
 "metadata": {
  "kernelspec": {
   "display_name": "Python 3 (ipykernel)",
   "language": "python",
   "name": "python3"
  },
  "language_info": {
   "codemirror_mode": {
    "name": "ipython",
    "version": 3
   },
   "file_extension": ".py",
   "mimetype": "text/x-python",
   "name": "python",
   "nbconvert_exporter": "python",
   "pygments_lexer": "ipython3",
   "version": "3.9.12"
  }
 },
 "nbformat": 4,
 "nbformat_minor": 5
}